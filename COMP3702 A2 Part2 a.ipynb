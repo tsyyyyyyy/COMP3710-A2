{
 "cells": [
  {
   "cell_type": "code",
   "execution_count": 1,
   "metadata": {},
   "outputs": [],
   "source": [
    "import tensorflow as tf\n",
    "from sklearn.datasets import fetch_lfw_people\n",
    "from sklearn.model_selection import train_test_split\n",
    "import numpy as np\n",
    "#physical_devices = tf.config.list_physical_devices('GPU') \n",
    "#tf.config.experimental.set_memory_growth(physical_devices[0], True)"
   ]
  },
  {
   "cell_type": "code",
   "execution_count": 2,
   "metadata": {},
   "outputs": [],
   "source": [
    "# Download the data, if not already on disk and load it as numpy arrays\n",
    "lfw_people = fetch_lfw_people(min_faces_per_person=70, resize=0.4)"
   ]
  },
  {
   "cell_type": "code",
   "execution_count": 3,
   "metadata": {},
   "outputs": [
    {
     "name": "stdout",
     "output_type": "stream",
     "text": [
      "Total dataset size:\n",
      "n_samples: 1288\n",
      "n_features: 1850\n",
      "n_classes: 7\n"
     ]
    }
   ],
   "source": [
    "# introspect the images arrays to find the shapes (for plotting)\n",
    "n_samples, h, w = lfw_people.images.shape\n",
    "# for machine learning we use the 2 data directly (as relative pixel\n",
    "# positions info is ignored by this model)\n",
    "X = lfw_people.data\n",
    "n_features = X.shape[1]\n",
    "# the label to predict is the id of the person\n",
    "y = lfw_people.target\n",
    "target_names = lfw_people.target_names\n",
    "n_classes = target_names.shape[0]\n",
    "y = tf.one_hot(y, depth=n_classes) ####\n",
    "print(\"Total dataset size:\")\n",
    "print(\"n_samples: %d\" % n_samples)\n",
    "print(\"n_features: %d\" % n_features)\n",
    "print(\"n_classes: %d\" % n_classes)"
   ]
  },
  {
   "cell_type": "code",
   "execution_count": 4,
   "metadata": {},
   "outputs": [
    {
     "data": {
      "text/plain": [
       "array([[0.99607843, 0.99607843, 0.9869281 , ..., 0.34248367, 0.3477124 ,\n",
       "        0.33986926],\n",
       "       [0.15555556, 0.19738561, 0.18431373, ..., 0.4614379 , 0.4509804 ,\n",
       "        0.52418303],\n",
       "       [0.3503268 , 0.40784314, 0.49411765, ..., 0.68758166, 0.7189542 ,\n",
       "        0.7176471 ],\n",
       "       ...,\n",
       "       [0.3372549 , 0.3150327 , 0.29281044, ..., 0.17254902, 0.19477125,\n",
       "        0.1751634 ],\n",
       "       [0.19738561, 0.25751632, 0.34509805, ..., 0.77254903, 0.70326793,\n",
       "        0.65228754],\n",
       "       [0.11764706, 0.10588235, 0.12810458, ..., 0.13725491, 0.13856208,\n",
       "        0.23921569]], dtype=float32)"
      ]
     },
     "execution_count": 4,
     "metadata": {},
     "output_type": "execute_result"
    }
   ],
   "source": [
    "#normalise data\n",
    "X = X/255\n",
    "X"
   ]
  },
  {
   "cell_type": "code",
   "execution_count": 5,
   "metadata": {},
   "outputs": [],
   "source": [
    "# Split into a training set and a test set using a stratified k fold\n",
    "X_train, X_test, y_train, y_test = train_test_split(X, y.numpy(), test_size=0.25, random_state=42)"
   ]
  },
  {
   "cell_type": "code",
   "execution_count": 6,
   "metadata": {},
   "outputs": [],
   "source": [
    "from tensorflow import keras"
   ]
  },
  {
   "cell_type": "code",
   "execution_count": 7,
   "metadata": {},
   "outputs": [
    {
     "name": "stdout",
     "output_type": "stream",
     "text": [
      "Model: \"sequential\"\n",
      "_________________________________________________________________\n",
      "Layer (type)                 Output Shape              Param #   \n",
      "=================================================================\n",
      "dense (Dense)                (None, 512)               947712    \n",
      "_________________________________________________________________\n",
      "dense_1 (Dense)              (None, 256)               131328    \n",
      "_________________________________________________________________\n",
      "dense_2 (Dense)              (None, 192)               49344     \n",
      "_________________________________________________________________\n",
      "dense_3 (Dense)              (None, 128)               24704     \n",
      "_________________________________________________________________\n",
      "dense_4 (Dense)              (None, 7)                 903       \n",
      "=================================================================\n",
      "Total params: 1,153,991\n",
      "Trainable params: 1,153,991\n",
      "Non-trainable params: 0\n",
      "_________________________________________________________________\n"
     ]
    }
   ],
   "source": [
    "model = tf.keras.Sequential()\n",
    "model.add(tf.keras.Input(shape=(1850,)))\n",
    "model.add(tf.keras.layers.Dense(units = 512, activation='relu'))\n",
    "model.add(tf.keras.layers.Dense(units = 256, activation='relu'))\n",
    "model.add(tf.keras.layers.Dense(units = 192, activation='relu'))\n",
    "model.add(tf.keras.layers.Dense(units = 128, activation='relu'))\n",
    "model.add(tf.keras.layers.Dense(units = 7, activation='softmax'))\n",
    "\n",
    "model.summary()"
   ]
  },
  {
   "cell_type": "code",
   "execution_count": 8,
   "metadata": {},
   "outputs": [],
   "source": [
    "model.compile(optimizer='adam', loss = tf.losses.CategoricalCrossentropy(), metrics=['accuracy'])"
   ]
  },
  {
   "cell_type": "code",
   "execution_count": 9,
   "metadata": {},
   "outputs": [
    {
     "name": "stdout",
     "output_type": "stream",
     "text": [
      "Epoch 1/50\n",
      "25/25 [==============================] - 1s 10ms/step - loss: 1.8399 - accuracy: 0.3484 - val_loss: 1.6496 - val_accuracy: 0.4124\n",
      "Epoch 2/50\n",
      "25/25 [==============================] - 0s 4ms/step - loss: 1.7297 - accuracy: 0.3938 - val_loss: 1.6513 - val_accuracy: 0.4124\n",
      "Epoch 3/50\n",
      "25/25 [==============================] - 0s 4ms/step - loss: 1.6843 - accuracy: 0.3951 - val_loss: 1.6020 - val_accuracy: 0.4381\n",
      "Epoch 4/50\n",
      "25/25 [==============================] - 0s 4ms/step - loss: 1.6160 - accuracy: 0.4119 - val_loss: 1.5971 - val_accuracy: 0.4588\n",
      "Epoch 5/50\n",
      "25/25 [==============================] - 0s 4ms/step - loss: 1.5500 - accuracy: 0.4391 - val_loss: 1.5237 - val_accuracy: 0.4897\n",
      "Epoch 6/50\n",
      "25/25 [==============================] - 0s 4ms/step - loss: 1.5287 - accuracy: 0.4534 - val_loss: 1.4384 - val_accuracy: 0.5000\n",
      "Epoch 7/50\n",
      "25/25 [==============================] - 0s 4ms/step - loss: 1.3203 - accuracy: 0.4922 - val_loss: 1.5601 - val_accuracy: 0.4536\n",
      "Epoch 8/50\n",
      "25/25 [==============================] - 0s 4ms/step - loss: 1.2504 - accuracy: 0.5427 - val_loss: 1.5711 - val_accuracy: 0.3454\n",
      "Epoch 9/50\n",
      "25/25 [==============================] - 0s 4ms/step - loss: 1.2254 - accuracy: 0.5272 - val_loss: 1.2913 - val_accuracy: 0.5309\n",
      "Epoch 10/50\n",
      "25/25 [==============================] - 0s 4ms/step - loss: 1.1075 - accuracy: 0.6049 - val_loss: 1.1130 - val_accuracy: 0.6082\n",
      "Epoch 11/50\n",
      "25/25 [==============================] - 0s 4ms/step - loss: 0.9497 - accuracy: 0.6477 - val_loss: 1.0651 - val_accuracy: 0.6495\n",
      "Epoch 12/50\n",
      "25/25 [==============================] - 0s 4ms/step - loss: 0.9893 - accuracy: 0.6490 - val_loss: 1.4368 - val_accuracy: 0.4588\n",
      "Epoch 13/50\n",
      "25/25 [==============================] - 0s 4ms/step - loss: 1.1184 - accuracy: 0.5920 - val_loss: 1.0856 - val_accuracy: 0.6031\n",
      "Epoch 14/50\n",
      "25/25 [==============================] - 0s 4ms/step - loss: 0.8261 - accuracy: 0.6878 - val_loss: 1.1675 - val_accuracy: 0.5979\n",
      "Epoch 15/50\n",
      "25/25 [==============================] - 0s 4ms/step - loss: 0.8344 - accuracy: 0.6982 - val_loss: 1.2068 - val_accuracy: 0.5515\n",
      "Epoch 16/50\n",
      "25/25 [==============================] - 0s 4ms/step - loss: 0.8335 - accuracy: 0.6852 - val_loss: 1.1849 - val_accuracy: 0.5722\n",
      "Epoch 17/50\n",
      "25/25 [==============================] - 0s 4ms/step - loss: 0.8290 - accuracy: 0.7021 - val_loss: 0.9802 - val_accuracy: 0.6443\n",
      "Epoch 18/50\n",
      "25/25 [==============================] - 0s 4ms/step - loss: 0.7070 - accuracy: 0.7409 - val_loss: 0.9561 - val_accuracy: 0.6649\n",
      "Epoch 19/50\n",
      "25/25 [==============================] - 0s 4ms/step - loss: 0.7110 - accuracy: 0.7578 - val_loss: 1.0410 - val_accuracy: 0.6443\n",
      "Epoch 20/50\n",
      "25/25 [==============================] - 0s 4ms/step - loss: 0.5961 - accuracy: 0.8018 - val_loss: 1.2409 - val_accuracy: 0.5979\n",
      "Epoch 21/50\n",
      "25/25 [==============================] - 0s 4ms/step - loss: 0.7011 - accuracy: 0.7345 - val_loss: 0.9145 - val_accuracy: 0.7216\n",
      "Epoch 22/50\n",
      "25/25 [==============================] - 0s 4ms/step - loss: 0.5848 - accuracy: 0.7966 - val_loss: 1.0119 - val_accuracy: 0.6649\n",
      "Epoch 23/50\n",
      "25/25 [==============================] - 0s 4ms/step - loss: 0.6918 - accuracy: 0.7668 - val_loss: 0.8384 - val_accuracy: 0.7113\n",
      "Epoch 24/50\n",
      "25/25 [==============================] - 0s 4ms/step - loss: 0.6004 - accuracy: 0.7850 - val_loss: 1.2664 - val_accuracy: 0.6031\n",
      "Epoch 25/50\n",
      "25/25 [==============================] - ETA: 0s - loss: 0.6954 - accuracy: 0.73 - 0s 5ms/step - loss: 0.6115 - accuracy: 0.7759 - val_loss: 0.8362 - val_accuracy: 0.7423\n",
      "Epoch 26/50\n",
      "25/25 [==============================] - 0s 4ms/step - loss: 0.4192 - accuracy: 0.8549 - val_loss: 0.9980 - val_accuracy: 0.6701\n",
      "Epoch 27/50\n",
      "25/25 [==============================] - 0s 5ms/step - loss: 0.5299 - accuracy: 0.8070 - val_loss: 0.9350 - val_accuracy: 0.7113\n",
      "Epoch 28/50\n",
      "25/25 [==============================] - 0s 5ms/step - loss: 0.4666 - accuracy: 0.8174 - val_loss: 0.9330 - val_accuracy: 0.7062\n",
      "Epoch 29/50\n",
      "25/25 [==============================] - 0s 5ms/step - loss: 0.3955 - accuracy: 0.8627 - val_loss: 1.0458 - val_accuracy: 0.6753\n",
      "Epoch 30/50\n",
      "25/25 [==============================] - 0s 5ms/step - loss: 0.4572 - accuracy: 0.8329 - val_loss: 0.8766 - val_accuracy: 0.7062\n",
      "Epoch 31/50\n",
      "25/25 [==============================] - 0s 4ms/step - loss: 0.4713 - accuracy: 0.8316 - val_loss: 0.8479 - val_accuracy: 0.7423\n",
      "Epoch 32/50\n",
      "25/25 [==============================] - 0s 5ms/step - loss: 0.4204 - accuracy: 0.8446 - val_loss: 1.2343 - val_accuracy: 0.5670\n",
      "Epoch 33/50\n",
      "25/25 [==============================] - 0s 5ms/step - loss: 0.4869 - accuracy: 0.8264 - val_loss: 0.8828 - val_accuracy: 0.7062\n",
      "Epoch 34/50\n",
      "25/25 [==============================] - 0s 4ms/step - loss: 0.4544 - accuracy: 0.8420 - val_loss: 0.8533 - val_accuracy: 0.7113\n",
      "Epoch 35/50\n",
      "25/25 [==============================] - 0s 5ms/step - loss: 0.3812 - accuracy: 0.8666 - val_loss: 1.0041 - val_accuracy: 0.7371\n",
      "Epoch 36/50\n",
      "25/25 [==============================] - 0s 4ms/step - loss: 0.3476 - accuracy: 0.8795 - val_loss: 1.3317 - val_accuracy: 0.6134\n",
      "Epoch 37/50\n",
      "25/25 [==============================] - 0s 4ms/step - loss: 0.3597 - accuracy: 0.8718 - val_loss: 0.9759 - val_accuracy: 0.7320\n",
      "Epoch 38/50\n",
      "25/25 [==============================] - 0s 4ms/step - loss: 0.3249 - accuracy: 0.8925 - val_loss: 0.9264 - val_accuracy: 0.7371\n",
      "Epoch 39/50\n",
      "25/25 [==============================] - 0s 4ms/step - loss: 0.2708 - accuracy: 0.9054 - val_loss: 1.1309 - val_accuracy: 0.6701\n",
      "Epoch 40/50\n",
      "25/25 [==============================] - 0s 4ms/step - loss: 0.4144 - accuracy: 0.8484 - val_loss: 0.7822 - val_accuracy: 0.7526\n",
      "Epoch 41/50\n",
      "25/25 [==============================] - 0s 4ms/step - loss: 0.2999 - accuracy: 0.8912 - val_loss: 0.8405 - val_accuracy: 0.7629\n",
      "Epoch 42/50\n",
      "25/25 [==============================] - 0s 4ms/step - loss: 0.3292 - accuracy: 0.8834 - val_loss: 0.9025 - val_accuracy: 0.7526\n",
      "Epoch 43/50\n",
      "25/25 [==============================] - 0s 4ms/step - loss: 0.5472 - accuracy: 0.8109 - val_loss: 1.2303 - val_accuracy: 0.6546\n",
      "Epoch 44/50\n",
      "25/25 [==============================] - 0s 4ms/step - loss: 0.4891 - accuracy: 0.8290 - val_loss: 1.3673 - val_accuracy: 0.6289\n",
      "Epoch 45/50\n",
      "25/25 [==============================] - 0s 4ms/step - loss: 0.3213 - accuracy: 0.8912 - val_loss: 0.7980 - val_accuracy: 0.7784\n",
      "Epoch 46/50\n",
      "25/25 [==============================] - 0s 4ms/step - loss: 0.2027 - accuracy: 0.9326 - val_loss: 0.7456 - val_accuracy: 0.8093\n",
      "Epoch 47/50\n",
      "25/25 [==============================] - 0s 4ms/step - loss: 0.1991 - accuracy: 0.9301 - val_loss: 1.1703 - val_accuracy: 0.7320\n",
      "Epoch 48/50\n",
      "25/25 [==============================] - 0s 4ms/step - loss: 0.2171 - accuracy: 0.9288 - val_loss: 1.1110 - val_accuracy: 0.7165\n",
      "Epoch 49/50\n",
      "25/25 [==============================] - 0s 4ms/step - loss: 0.4988 - accuracy: 0.8549 - val_loss: 0.9434 - val_accuracy: 0.6753\n",
      "Epoch 50/50\n",
      "25/25 [==============================] - 0s 4ms/step - loss: 0.2964 - accuracy: 0.9041 - val_loss: 0.8379 - val_accuracy: 0.7732\n"
     ]
    }
   ],
   "source": [
    "history = model.fit(X_train, y_train,epochs=50, validation_split = 0.2)"
   ]
  },
  {
   "cell_type": "code",
   "execution_count": 10,
   "metadata": {},
   "outputs": [
    {
     "name": "stdout",
     "output_type": "stream",
     "text": [
      "11/11 [==============================] - 0s 3ms/step - loss: 0.6767 - accuracy: 0.7919\n"
     ]
    }
   ],
   "source": [
    "#Evaluate the model on the test data\n",
    "loss, acc = model.evaluate(X_test, y_test)"
   ]
  },
  {
   "cell_type": "code",
   "execution_count": null,
   "metadata": {},
   "outputs": [],
   "source": []
  }
 ],
 "metadata": {
  "kernelspec": {
   "display_name": "Python 3",
   "language": "python",
   "name": "python3"
  },
  "language_info": {
   "codemirror_mode": {
    "name": "ipython",
    "version": 3
   },
   "file_extension": ".py",
   "mimetype": "text/x-python",
   "name": "python",
   "nbconvert_exporter": "python",
   "pygments_lexer": "ipython3",
   "version": "3.8.5"
  }
 },
 "nbformat": 4,
 "nbformat_minor": 5
}
