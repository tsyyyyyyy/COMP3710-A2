{
 "cells": [
  {
   "cell_type": "code",
   "execution_count": 1,
   "metadata": {},
   "outputs": [],
   "source": [
    "import tensorflow as tf\n",
    "from sklearn.datasets import fetch_lfw_people\n",
    "from sklearn.model_selection import train_test_split\n",
    "physical_devices = tf.config.list_physical_devices('GPU') \n",
    "tf.config.experimental.set_memory_growth(physical_devices[0], True)"
   ]
  },
  {
   "cell_type": "code",
   "execution_count": 2,
   "metadata": {},
   "outputs": [],
   "source": [
    "# Download the data, if not already on disk and load it as numpy arrays\n",
    "lfw_people = fetch_lfw_people(min_faces_per_person=70, resize=0.4)"
   ]
  },
  {
   "cell_type": "code",
   "execution_count": 3,
   "metadata": {},
   "outputs": [
    {
     "name": "stdout",
     "output_type": "stream",
     "text": [
      "Total dataset size:\n",
      "n_samples: 1288\n",
      "n_features: 1850\n",
      "n_classes: 7\n"
     ]
    }
   ],
   "source": [
    "# introspect the images arrays to find the shapes (for plotting)\n",
    "n_samples, h, w = lfw_people.images.shape\n",
    "# for machine learning we use the 2 data directly (as relative pixel\n",
    "# positions info is ignored by this model)\n",
    "X = lfw_people.data\n",
    "n_features = X.shape[1]\n",
    "# the label to predict is the id of the person\n",
    "y = lfw_people.target\n",
    "target_names = lfw_people.target_names\n",
    "n_classes = target_names.shape[0]\n",
    "y = tf.one_hot(y, depth=n_classes) ####\n",
    "print(\"Total dataset size:\")\n",
    "print(\"n_samples: %d\" % n_samples)\n",
    "print(\"n_features: %d\" % n_features)\n",
    "print(\"n_classes: %d\" % n_classes)"
   ]
  },
  {
   "cell_type": "code",
   "execution_count": 4,
   "metadata": {},
   "outputs": [
    {
     "data": {
      "text/plain": [
       "TensorShape([1288, 7])"
      ]
     },
     "execution_count": 4,
     "metadata": {},
     "output_type": "execute_result"
    }
   ],
   "source": [
    "y.shape"
   ]
  },
  {
   "cell_type": "code",
   "execution_count": 5,
   "metadata": {},
   "outputs": [
    {
     "data": {
      "text/plain": [
       "array([[0.99607843, 0.99607843, 0.9869281 , ..., 0.34248367, 0.3477124 ,\n",
       "        0.33986926],\n",
       "       [0.15555556, 0.19738561, 0.18431373, ..., 0.4614379 , 0.4509804 ,\n",
       "        0.52418303],\n",
       "       [0.3503268 , 0.40784314, 0.49411765, ..., 0.68758166, 0.7189542 ,\n",
       "        0.7176471 ],\n",
       "       ...,\n",
       "       [0.3372549 , 0.3150327 , 0.29281044, ..., 0.17254902, 0.19477125,\n",
       "        0.1751634 ],\n",
       "       [0.19738561, 0.25751632, 0.34509805, ..., 0.77254903, 0.70326793,\n",
       "        0.65228754],\n",
       "       [0.11764706, 0.10588235, 0.12810458, ..., 0.13725491, 0.13856208,\n",
       "        0.23921569]], dtype=float32)"
      ]
     },
     "execution_count": 5,
     "metadata": {},
     "output_type": "execute_result"
    }
   ],
   "source": [
    "#normalise data\n",
    "X = X/255\n",
    "X"
   ]
  },
  {
   "cell_type": "code",
   "execution_count": 6,
   "metadata": {},
   "outputs": [],
   "source": [
    "#The model expects an input with 4 dimensions\n",
    "#reshape data with size (n_images, rows, cols, channels)\n",
    "X = X.reshape(n_samples, h, w, 1)"
   ]
  },
  {
   "cell_type": "code",
   "execution_count": 7,
   "metadata": {},
   "outputs": [
    {
     "data": {
      "text/plain": [
       "(1288, 50, 37, 1)"
      ]
     },
     "execution_count": 7,
     "metadata": {},
     "output_type": "execute_result"
    }
   ],
   "source": [
    "X.shape"
   ]
  },
  {
   "cell_type": "code",
   "execution_count": 8,
   "metadata": {},
   "outputs": [],
   "source": [
    "# Split into a training set and a test set using a stratified k fold\n",
    "X_train, X_test, y_train, y_test = train_test_split(X, y.numpy(), test_size=0.25, random_state=42)"
   ]
  },
  {
   "cell_type": "code",
   "execution_count": 9,
   "metadata": {},
   "outputs": [
    {
     "data": {
      "text/plain": [
       "(966, 7)"
      ]
     },
     "execution_count": 9,
     "metadata": {},
     "output_type": "execute_result"
    }
   ],
   "source": [
    "y_train.shape"
   ]
  },
  {
   "cell_type": "code",
   "execution_count": 8,
   "metadata": {},
   "outputs": [
    {
     "data": {
      "text/plain": [
       "(966, 50, 37, 1)"
      ]
     },
     "execution_count": 8,
     "metadata": {},
     "output_type": "execute_result"
    }
   ],
   "source": [
    "X_train.shape"
   ]
  },
  {
   "cell_type": "code",
   "execution_count": 9,
   "metadata": {},
   "outputs": [],
   "source": [
    "from tensorflow import keras"
   ]
  },
  {
   "cell_type": "code",
   "execution_count": 10,
   "metadata": {},
   "outputs": [
    {
     "name": "stdout",
     "output_type": "stream",
     "text": [
      "Model: \"sequential\"\n",
      "_________________________________________________________________\n",
      "Layer (type)                 Output Shape              Param #   \n",
      "=================================================================\n",
      "conv2d (Conv2D)              (None, 48, 35, 32)        320       \n",
      "_________________________________________________________________\n",
      "max_pooling2d (MaxPooling2D) (None, 24, 17, 32)        0         \n",
      "_________________________________________________________________\n",
      "conv2d_1 (Conv2D)            (None, 22, 15, 32)        9248      \n",
      "_________________________________________________________________\n",
      "max_pooling2d_1 (MaxPooling2 (None, 11, 7, 32)         0         \n",
      "_________________________________________________________________\n",
      "flatten (Flatten)            (None, 2464)              0         \n",
      "_________________________________________________________________\n",
      "dense (Dense)                (None, 512)               1262080   \n",
      "_________________________________________________________________\n",
      "dense_1 (Dense)              (None, 256)               131328    \n",
      "_________________________________________________________________\n",
      "dense_2 (Dense)              (None, 128)               32896     \n",
      "_________________________________________________________________\n",
      "dense_3 (Dense)              (None, 7)                 903       \n",
      "=================================================================\n",
      "Total params: 1,436,775\n",
      "Trainable params: 1,436,775\n",
      "Non-trainable params: 0\n",
      "_________________________________________________________________\n"
     ]
    }
   ],
   "source": [
    "model = tf.keras.Sequential()\n",
    "\n",
    "#Add two convolution layers of 3x3 with 32 filters each\n",
    "#input shape = (rows, cols, channels) \n",
    "#image size 50 *37, #no of channels = 1(grayscale)\n",
    "model.add(tf.keras.layers.Conv2D(filters = 32, kernel_size = (3,3), activation='relu', input_shape=(h,w,1)))\n",
    "model.add(tf.keras.layers.MaxPooling2D((2,2)))\n",
    "model.add(tf.keras.layers.Conv2D(filters = 32, kernel_size = (3,3), activation='relu'))\n",
    "model.add(tf.keras.layers.MaxPooling2D((2,2)))\n",
    "\n",
    "#Adding Dense layers for classification\n",
    "model.add(tf.keras.layers.Flatten())\n",
    "model.add(tf.keras.layers.Dense(512, activation='relu'))\n",
    "model.add(tf.keras.layers.Dense(256, activation='relu'))\n",
    "model.add(tf.keras.layers.Dense(128, activation='relu'))\n",
    "model.add(tf.keras.layers.Dense(7, activation='softmax'))\n",
    "\n",
    "model.summary()"
   ]
  },
  {
   "cell_type": "code",
   "execution_count": 11,
   "metadata": {},
   "outputs": [],
   "source": [
    "model.compile(optimizer='Adam', loss='categorical_crossentropy', metrics=['acc'])"
   ]
  },
  {
   "cell_type": "code",
   "execution_count": 12,
   "metadata": {},
   "outputs": [
    {
     "name": "stdout",
     "output_type": "stream",
     "text": [
      "Epoch 1/20\n",
      "31/31 [==============================] - 5s 7ms/step - loss: 1.7447 - acc: 0.3851\n",
      "Epoch 2/20\n",
      "31/31 [==============================] - 0s 5ms/step - loss: 1.6875 - acc: 0.3975\n",
      "Epoch 3/20\n",
      "31/31 [==============================] - 0s 5ms/step - loss: 1.5810 - acc: 0.4296\n",
      "Epoch 4/20\n",
      "31/31 [==============================] - 0s 4ms/step - loss: 1.2666 - acc: 0.5424\n",
      "Epoch 5/20\n",
      "31/31 [==============================] - 0s 4ms/step - loss: 0.8974 - acc: 0.6936\n",
      "Epoch 6/20\n",
      "31/31 [==============================] - 0s 4ms/step - loss: 0.7045 - acc: 0.7567\n",
      "Epoch 7/20\n",
      "31/31 [==============================] - 0s 4ms/step - loss: 0.5607 - acc: 0.8116\n",
      "Epoch 8/20\n",
      "31/31 [==============================] - 0s 4ms/step - loss: 0.4041 - acc: 0.8654\n",
      "Epoch 9/20\n",
      "31/31 [==============================] - 0s 4ms/step - loss: 0.3340 - acc: 0.8892\n",
      "Epoch 10/20\n",
      "31/31 [==============================] - 0s 4ms/step - loss: 0.2798 - acc: 0.9048\n",
      "Epoch 11/20\n",
      "31/31 [==============================] - 0s 4ms/step - loss: 0.1726 - acc: 0.9513\n",
      "Epoch 12/20\n",
      "31/31 [==============================] - 0s 4ms/step - loss: 0.1618 - acc: 0.9493\n",
      "Epoch 13/20\n",
      "31/31 [==============================] - 0s 5ms/step - loss: 0.1039 - acc: 0.9731\n",
      "Epoch 14/20\n",
      "31/31 [==============================] - 0s 4ms/step - loss: 0.0724 - acc: 0.9803\n",
      "Epoch 15/20\n",
      "31/31 [==============================] - 0s 4ms/step - loss: 0.0676 - acc: 0.9783\n",
      "Epoch 16/20\n",
      "31/31 [==============================] - 0s 5ms/step - loss: 0.0444 - acc: 0.9876\n",
      "Epoch 17/20\n",
      "31/31 [==============================] - 0s 5ms/step - loss: 0.0592 - acc: 0.9824\n",
      "Epoch 18/20\n",
      "31/31 [==============================] - 0s 5ms/step - loss: 0.0204 - acc: 0.9969\n",
      "Epoch 19/20\n",
      "31/31 [==============================] - 0s 4ms/step - loss: 0.0063 - acc: 0.9990\n",
      "Epoch 20/20\n",
      "31/31 [==============================] - 0s 4ms/step - loss: 0.0025 - acc: 1.0000\n"
     ]
    }
   ],
   "source": [
    "history = model.fit(X_train, y_train, epochs=20)"
   ]
  },
  {
   "cell_type": "code",
   "execution_count": 13,
   "metadata": {},
   "outputs": [
    {
     "name": "stdout",
     "output_type": "stream",
     "text": [
      "11/11 [==============================] - 0s 5ms/step - loss: 0.7587 - acc: 0.8789\n",
      "Test_acc: 0.8788819909095764\n"
     ]
    }
   ],
   "source": [
    "#Testing\n",
    "test_loss, test_acc = model.evaluate(X_test, y_test)\n",
    "print(\"Test_acc:\", test_acc)"
   ]
  },
  {
   "cell_type": "code",
   "execution_count": null,
   "metadata": {},
   "outputs": [],
   "source": []
  }
 ],
 "metadata": {
  "kernelspec": {
   "display_name": "Python 3",
   "language": "python",
   "name": "python3"
  },
  "language_info": {
   "codemirror_mode": {
    "name": "ipython",
    "version": 3
   },
   "file_extension": ".py",
   "mimetype": "text/x-python",
   "name": "python",
   "nbconvert_exporter": "python",
   "pygments_lexer": "ipython3",
   "version": "3.8.5"
  }
 },
 "nbformat": 4,
 "nbformat_minor": 5
}
